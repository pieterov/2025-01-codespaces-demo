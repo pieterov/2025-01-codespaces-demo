{
 "cells": [
  {
   "cell_type": "code",
   "execution_count": 1,
   "metadata": {},
   "outputs": [
    {
     "name": "stdout",
     "output_type": "stream",
     "text": [
      "10\n",
      "pieter\n",
      "    a\n",
      "0  12\n",
      "1  23\n"
     ]
    }
   ],
   "source": [
    "# Initialize\n",
    "a=1\n",
    "print(a*10)\n",
    "\n",
    "print(\"pieter\")\n",
    "\n",
    "#import pandas as pd\n",
    "import pandas as pd\n",
    "\n",
    "df=pd.DataFrame({'a': [12,23]})\n",
    "\n",
    "print(df)"
   ]
  },
  {
   "cell_type": "code",
   "execution_count": 7,
   "metadata": {},
   "outputs": [],
   "source": [
    "import polars as pl\n",
    "df= pl.read_csv(\"../Data/AmesHousing.csv\")"
   ]
  },
  {
   "cell_type": "code",
   "execution_count": 8,
   "metadata": {},
   "outputs": [
    {
     "data": {
      "text/html": [
       "<div><style>\n",
       ".dataframe > thead > tr,\n",
       ".dataframe > tbody > tr {\n",
       "  text-align: right;\n",
       "  white-space: pre-wrap;\n",
       "}\n",
       "</style>\n",
       "<small>shape: (2_930, 82)</small><table border=\"1\" class=\"dataframe\"><thead><tr><th>Order</th><th>PID</th><th>MS SubClass</th><th>MS Zoning</th><th>Lot Frontage</th><th>Lot Area</th><th>Street</th><th>Alley</th><th>Lot Shape</th><th>Land Contour</th><th>Utilities</th><th>Lot Config</th><th>Land Slope</th><th>Neighborhood</th><th>Condition 1</th><th>Condition 2</th><th>Bldg Type</th><th>House Style</th><th>Overall Qual</th><th>Overall Cond</th><th>Year Built</th><th>Year Remod/Add</th><th>Roof Style</th><th>Roof Matl</th><th>Exterior 1st</th><th>Exterior 2nd</th><th>Mas Vnr Type</th><th>Mas Vnr Area</th><th>Exter Qual</th><th>Exter Cond</th><th>Foundation</th><th>Bsmt Qual</th><th>Bsmt Cond</th><th>Bsmt Exposure</th><th>BsmtFin Type 1</th><th>BsmtFin SF 1</th><th>BsmtFin Type 2</th><th>&hellip;</th><th>2nd Flr SF</th><th>Low Qual Fin SF</th><th>Gr Liv Area</th><th>Bsmt Full Bath</th><th>Bsmt Half Bath</th><th>Full Bath</th><th>Half Bath</th><th>Bedroom AbvGr</th><th>Kitchen AbvGr</th><th>Kitchen Qual</th><th>TotRms AbvGrd</th><th>Functional</th><th>Fireplaces</th><th>Fireplace Qu</th><th>Garage Type</th><th>Garage Yr Blt</th><th>Garage Finish</th><th>Garage Cars</th><th>Garage Area</th><th>Garage Qual</th><th>Garage Cond</th><th>Paved Drive</th><th>Wood Deck SF</th><th>Open Porch SF</th><th>Enclosed Porch</th><th>3Ssn Porch</th><th>Screen Porch</th><th>Pool Area</th><th>Pool QC</th><th>Fence</th><th>Misc Feature</th><th>Misc Val</th><th>Mo Sold</th><th>Yr Sold</th><th>Sale Type</th><th>Sale Condition</th><th>SalePrice</th></tr><tr><td>i64</td><td>i64</td><td>i64</td><td>str</td><td>i64</td><td>i64</td><td>str</td><td>str</td><td>str</td><td>str</td><td>str</td><td>str</td><td>str</td><td>str</td><td>str</td><td>str</td><td>str</td><td>str</td><td>i64</td><td>i64</td><td>i64</td><td>i64</td><td>str</td><td>str</td><td>str</td><td>str</td><td>str</td><td>i64</td><td>str</td><td>str</td><td>str</td><td>str</td><td>str</td><td>str</td><td>str</td><td>i64</td><td>str</td><td>&hellip;</td><td>i64</td><td>i64</td><td>i64</td><td>i64</td><td>i64</td><td>i64</td><td>i64</td><td>i64</td><td>i64</td><td>str</td><td>i64</td><td>str</td><td>i64</td><td>str</td><td>str</td><td>i64</td><td>str</td><td>i64</td><td>i64</td><td>str</td><td>str</td><td>str</td><td>i64</td><td>i64</td><td>i64</td><td>i64</td><td>i64</td><td>i64</td><td>str</td><td>str</td><td>str</td><td>i64</td><td>i64</td><td>i64</td><td>str</td><td>str</td><td>i64</td></tr></thead><tbody><tr><td>1</td><td>526301100</td><td>20</td><td>&quot;RL&quot;</td><td>141</td><td>31770</td><td>&quot;Pave&quot;</td><td>&quot;NA&quot;</td><td>&quot;IR1&quot;</td><td>&quot;Lvl&quot;</td><td>&quot;AllPub&quot;</td><td>&quot;Corner&quot;</td><td>&quot;Gtl&quot;</td><td>&quot;NAmes&quot;</td><td>&quot;Norm&quot;</td><td>&quot;Norm&quot;</td><td>&quot;1Fam&quot;</td><td>&quot;1Story&quot;</td><td>6</td><td>5</td><td>1960</td><td>1960</td><td>&quot;Hip&quot;</td><td>&quot;CompShg&quot;</td><td>&quot;BrkFace&quot;</td><td>&quot;Plywood&quot;</td><td>&quot;Stone&quot;</td><td>112</td><td>&quot;TA&quot;</td><td>&quot;TA&quot;</td><td>&quot;CBlock&quot;</td><td>&quot;TA&quot;</td><td>&quot;Gd&quot;</td><td>&quot;Gd&quot;</td><td>&quot;BLQ&quot;</td><td>639</td><td>&quot;Unf&quot;</td><td>&hellip;</td><td>0</td><td>0</td><td>1656</td><td>1</td><td>0</td><td>1</td><td>0</td><td>3</td><td>1</td><td>&quot;TA&quot;</td><td>7</td><td>&quot;Typ&quot;</td><td>2</td><td>&quot;Gd&quot;</td><td>&quot;Attchd&quot;</td><td>1960</td><td>&quot;Fin&quot;</td><td>2</td><td>528</td><td>&quot;TA&quot;</td><td>&quot;TA&quot;</td><td>&quot;P&quot;</td><td>210</td><td>62</td><td>0</td><td>0</td><td>0</td><td>0</td><td>&quot;NA&quot;</td><td>&quot;NA&quot;</td><td>&quot;NA&quot;</td><td>0</td><td>5</td><td>2010</td><td>&quot;WD &quot;</td><td>&quot;Normal&quot;</td><td>215000</td></tr><tr><td>2</td><td>526350040</td><td>20</td><td>&quot;RH&quot;</td><td>80</td><td>11622</td><td>&quot;Pave&quot;</td><td>&quot;NA&quot;</td><td>&quot;Reg&quot;</td><td>&quot;Lvl&quot;</td><td>&quot;AllPub&quot;</td><td>&quot;Inside&quot;</td><td>&quot;Gtl&quot;</td><td>&quot;NAmes&quot;</td><td>&quot;Feedr&quot;</td><td>&quot;Norm&quot;</td><td>&quot;1Fam&quot;</td><td>&quot;1Story&quot;</td><td>5</td><td>6</td><td>1961</td><td>1961</td><td>&quot;Gable&quot;</td><td>&quot;CompShg&quot;</td><td>&quot;VinylSd&quot;</td><td>&quot;VinylSd&quot;</td><td>&quot;None&quot;</td><td>0</td><td>&quot;TA&quot;</td><td>&quot;TA&quot;</td><td>&quot;CBlock&quot;</td><td>&quot;TA&quot;</td><td>&quot;TA&quot;</td><td>&quot;No&quot;</td><td>&quot;Rec&quot;</td><td>468</td><td>&quot;LwQ&quot;</td><td>&hellip;</td><td>0</td><td>0</td><td>896</td><td>0</td><td>0</td><td>1</td><td>0</td><td>2</td><td>1</td><td>&quot;TA&quot;</td><td>5</td><td>&quot;Typ&quot;</td><td>0</td><td>&quot;NA&quot;</td><td>&quot;Attchd&quot;</td><td>1961</td><td>&quot;Unf&quot;</td><td>1</td><td>730</td><td>&quot;TA&quot;</td><td>&quot;TA&quot;</td><td>&quot;Y&quot;</td><td>140</td><td>0</td><td>0</td><td>0</td><td>120</td><td>0</td><td>&quot;NA&quot;</td><td>&quot;MnPrv&quot;</td><td>&quot;NA&quot;</td><td>0</td><td>6</td><td>2010</td><td>&quot;WD &quot;</td><td>&quot;Normal&quot;</td><td>105000</td></tr><tr><td>3</td><td>526351010</td><td>20</td><td>&quot;RL&quot;</td><td>81</td><td>14267</td><td>&quot;Pave&quot;</td><td>&quot;NA&quot;</td><td>&quot;IR1&quot;</td><td>&quot;Lvl&quot;</td><td>&quot;AllPub&quot;</td><td>&quot;Corner&quot;</td><td>&quot;Gtl&quot;</td><td>&quot;NAmes&quot;</td><td>&quot;Norm&quot;</td><td>&quot;Norm&quot;</td><td>&quot;1Fam&quot;</td><td>&quot;1Story&quot;</td><td>6</td><td>6</td><td>1958</td><td>1958</td><td>&quot;Hip&quot;</td><td>&quot;CompShg&quot;</td><td>&quot;Wd Sdng&quot;</td><td>&quot;Wd Sdng&quot;</td><td>&quot;BrkFace&quot;</td><td>108</td><td>&quot;TA&quot;</td><td>&quot;TA&quot;</td><td>&quot;CBlock&quot;</td><td>&quot;TA&quot;</td><td>&quot;TA&quot;</td><td>&quot;No&quot;</td><td>&quot;ALQ&quot;</td><td>923</td><td>&quot;Unf&quot;</td><td>&hellip;</td><td>0</td><td>0</td><td>1329</td><td>0</td><td>0</td><td>1</td><td>1</td><td>3</td><td>1</td><td>&quot;Gd&quot;</td><td>6</td><td>&quot;Typ&quot;</td><td>0</td><td>&quot;NA&quot;</td><td>&quot;Attchd&quot;</td><td>1958</td><td>&quot;Unf&quot;</td><td>1</td><td>312</td><td>&quot;TA&quot;</td><td>&quot;TA&quot;</td><td>&quot;Y&quot;</td><td>393</td><td>36</td><td>0</td><td>0</td><td>0</td><td>0</td><td>&quot;NA&quot;</td><td>&quot;NA&quot;</td><td>&quot;Gar2&quot;</td><td>12500</td><td>6</td><td>2010</td><td>&quot;WD &quot;</td><td>&quot;Normal&quot;</td><td>172000</td></tr><tr><td>4</td><td>526353030</td><td>20</td><td>&quot;RL&quot;</td><td>93</td><td>11160</td><td>&quot;Pave&quot;</td><td>&quot;NA&quot;</td><td>&quot;Reg&quot;</td><td>&quot;Lvl&quot;</td><td>&quot;AllPub&quot;</td><td>&quot;Corner&quot;</td><td>&quot;Gtl&quot;</td><td>&quot;NAmes&quot;</td><td>&quot;Norm&quot;</td><td>&quot;Norm&quot;</td><td>&quot;1Fam&quot;</td><td>&quot;1Story&quot;</td><td>7</td><td>5</td><td>1968</td><td>1968</td><td>&quot;Hip&quot;</td><td>&quot;CompShg&quot;</td><td>&quot;BrkFace&quot;</td><td>&quot;BrkFace&quot;</td><td>&quot;None&quot;</td><td>0</td><td>&quot;Gd&quot;</td><td>&quot;TA&quot;</td><td>&quot;CBlock&quot;</td><td>&quot;TA&quot;</td><td>&quot;TA&quot;</td><td>&quot;No&quot;</td><td>&quot;ALQ&quot;</td><td>1065</td><td>&quot;Unf&quot;</td><td>&hellip;</td><td>0</td><td>0</td><td>2110</td><td>1</td><td>0</td><td>2</td><td>1</td><td>3</td><td>1</td><td>&quot;Ex&quot;</td><td>8</td><td>&quot;Typ&quot;</td><td>2</td><td>&quot;TA&quot;</td><td>&quot;Attchd&quot;</td><td>1968</td><td>&quot;Fin&quot;</td><td>2</td><td>522</td><td>&quot;TA&quot;</td><td>&quot;TA&quot;</td><td>&quot;Y&quot;</td><td>0</td><td>0</td><td>0</td><td>0</td><td>0</td><td>0</td><td>&quot;NA&quot;</td><td>&quot;NA&quot;</td><td>&quot;NA&quot;</td><td>0</td><td>4</td><td>2010</td><td>&quot;WD &quot;</td><td>&quot;Normal&quot;</td><td>244000</td></tr><tr><td>5</td><td>527105010</td><td>60</td><td>&quot;RL&quot;</td><td>74</td><td>13830</td><td>&quot;Pave&quot;</td><td>&quot;NA&quot;</td><td>&quot;IR1&quot;</td><td>&quot;Lvl&quot;</td><td>&quot;AllPub&quot;</td><td>&quot;Inside&quot;</td><td>&quot;Gtl&quot;</td><td>&quot;Gilbert&quot;</td><td>&quot;Norm&quot;</td><td>&quot;Norm&quot;</td><td>&quot;1Fam&quot;</td><td>&quot;2Story&quot;</td><td>5</td><td>5</td><td>1997</td><td>1998</td><td>&quot;Gable&quot;</td><td>&quot;CompShg&quot;</td><td>&quot;VinylSd&quot;</td><td>&quot;VinylSd&quot;</td><td>&quot;None&quot;</td><td>0</td><td>&quot;TA&quot;</td><td>&quot;TA&quot;</td><td>&quot;PConc&quot;</td><td>&quot;Gd&quot;</td><td>&quot;TA&quot;</td><td>&quot;No&quot;</td><td>&quot;GLQ&quot;</td><td>791</td><td>&quot;Unf&quot;</td><td>&hellip;</td><td>701</td><td>0</td><td>1629</td><td>0</td><td>0</td><td>2</td><td>1</td><td>3</td><td>1</td><td>&quot;TA&quot;</td><td>6</td><td>&quot;Typ&quot;</td><td>1</td><td>&quot;TA&quot;</td><td>&quot;Attchd&quot;</td><td>1997</td><td>&quot;Fin&quot;</td><td>2</td><td>482</td><td>&quot;TA&quot;</td><td>&quot;TA&quot;</td><td>&quot;Y&quot;</td><td>212</td><td>34</td><td>0</td><td>0</td><td>0</td><td>0</td><td>&quot;NA&quot;</td><td>&quot;MnPrv&quot;</td><td>&quot;NA&quot;</td><td>0</td><td>3</td><td>2010</td><td>&quot;WD &quot;</td><td>&quot;Normal&quot;</td><td>189900</td></tr><tr><td>&hellip;</td><td>&hellip;</td><td>&hellip;</td><td>&hellip;</td><td>&hellip;</td><td>&hellip;</td><td>&hellip;</td><td>&hellip;</td><td>&hellip;</td><td>&hellip;</td><td>&hellip;</td><td>&hellip;</td><td>&hellip;</td><td>&hellip;</td><td>&hellip;</td><td>&hellip;</td><td>&hellip;</td><td>&hellip;</td><td>&hellip;</td><td>&hellip;</td><td>&hellip;</td><td>&hellip;</td><td>&hellip;</td><td>&hellip;</td><td>&hellip;</td><td>&hellip;</td><td>&hellip;</td><td>&hellip;</td><td>&hellip;</td><td>&hellip;</td><td>&hellip;</td><td>&hellip;</td><td>&hellip;</td><td>&hellip;</td><td>&hellip;</td><td>&hellip;</td><td>&hellip;</td><td>&hellip;</td><td>&hellip;</td><td>&hellip;</td><td>&hellip;</td><td>&hellip;</td><td>&hellip;</td><td>&hellip;</td><td>&hellip;</td><td>&hellip;</td><td>&hellip;</td><td>&hellip;</td><td>&hellip;</td><td>&hellip;</td><td>&hellip;</td><td>&hellip;</td><td>&hellip;</td><td>&hellip;</td><td>&hellip;</td><td>&hellip;</td><td>&hellip;</td><td>&hellip;</td><td>&hellip;</td><td>&hellip;</td><td>&hellip;</td><td>&hellip;</td><td>&hellip;</td><td>&hellip;</td><td>&hellip;</td><td>&hellip;</td><td>&hellip;</td><td>&hellip;</td><td>&hellip;</td><td>&hellip;</td><td>&hellip;</td><td>&hellip;</td><td>&hellip;</td><td>&hellip;</td><td>&hellip;</td></tr><tr><td>2926</td><td>923275080</td><td>80</td><td>&quot;RL&quot;</td><td>37</td><td>7937</td><td>&quot;Pave&quot;</td><td>&quot;NA&quot;</td><td>&quot;IR1&quot;</td><td>&quot;Lvl&quot;</td><td>&quot;AllPub&quot;</td><td>&quot;CulDSac&quot;</td><td>&quot;Gtl&quot;</td><td>&quot;Mitchel&quot;</td><td>&quot;Norm&quot;</td><td>&quot;Norm&quot;</td><td>&quot;1Fam&quot;</td><td>&quot;SLvl&quot;</td><td>6</td><td>6</td><td>1984</td><td>1984</td><td>&quot;Gable&quot;</td><td>&quot;CompShg&quot;</td><td>&quot;HdBoard&quot;</td><td>&quot;HdBoard&quot;</td><td>&quot;None&quot;</td><td>0</td><td>&quot;TA&quot;</td><td>&quot;TA&quot;</td><td>&quot;CBlock&quot;</td><td>&quot;TA&quot;</td><td>&quot;TA&quot;</td><td>&quot;Av&quot;</td><td>&quot;GLQ&quot;</td><td>819</td><td>&quot;Unf&quot;</td><td>&hellip;</td><td>0</td><td>0</td><td>1003</td><td>1</td><td>0</td><td>1</td><td>0</td><td>3</td><td>1</td><td>&quot;TA&quot;</td><td>6</td><td>&quot;Typ&quot;</td><td>0</td><td>&quot;NA&quot;</td><td>&quot;Detchd&quot;</td><td>1984</td><td>&quot;Unf&quot;</td><td>2</td><td>588</td><td>&quot;TA&quot;</td><td>&quot;TA&quot;</td><td>&quot;Y&quot;</td><td>120</td><td>0</td><td>0</td><td>0</td><td>0</td><td>0</td><td>&quot;NA&quot;</td><td>&quot;GdPrv&quot;</td><td>&quot;NA&quot;</td><td>0</td><td>3</td><td>2006</td><td>&quot;WD &quot;</td><td>&quot;Normal&quot;</td><td>142500</td></tr><tr><td>2927</td><td>923276100</td><td>20</td><td>&quot;RL&quot;</td><td>null</td><td>8885</td><td>&quot;Pave&quot;</td><td>&quot;NA&quot;</td><td>&quot;IR1&quot;</td><td>&quot;Low&quot;</td><td>&quot;AllPub&quot;</td><td>&quot;Inside&quot;</td><td>&quot;Mod&quot;</td><td>&quot;Mitchel&quot;</td><td>&quot;Norm&quot;</td><td>&quot;Norm&quot;</td><td>&quot;1Fam&quot;</td><td>&quot;1Story&quot;</td><td>5</td><td>5</td><td>1983</td><td>1983</td><td>&quot;Gable&quot;</td><td>&quot;CompShg&quot;</td><td>&quot;HdBoard&quot;</td><td>&quot;HdBoard&quot;</td><td>&quot;None&quot;</td><td>0</td><td>&quot;TA&quot;</td><td>&quot;TA&quot;</td><td>&quot;CBlock&quot;</td><td>&quot;Gd&quot;</td><td>&quot;TA&quot;</td><td>&quot;Av&quot;</td><td>&quot;BLQ&quot;</td><td>301</td><td>&quot;ALQ&quot;</td><td>&hellip;</td><td>0</td><td>0</td><td>902</td><td>1</td><td>0</td><td>1</td><td>0</td><td>2</td><td>1</td><td>&quot;TA&quot;</td><td>5</td><td>&quot;Typ&quot;</td><td>0</td><td>&quot;NA&quot;</td><td>&quot;Attchd&quot;</td><td>1983</td><td>&quot;Unf&quot;</td><td>2</td><td>484</td><td>&quot;TA&quot;</td><td>&quot;TA&quot;</td><td>&quot;Y&quot;</td><td>164</td><td>0</td><td>0</td><td>0</td><td>0</td><td>0</td><td>&quot;NA&quot;</td><td>&quot;MnPrv&quot;</td><td>&quot;NA&quot;</td><td>0</td><td>6</td><td>2006</td><td>&quot;WD &quot;</td><td>&quot;Normal&quot;</td><td>131000</td></tr><tr><td>2928</td><td>923400125</td><td>85</td><td>&quot;RL&quot;</td><td>62</td><td>10441</td><td>&quot;Pave&quot;</td><td>&quot;NA&quot;</td><td>&quot;Reg&quot;</td><td>&quot;Lvl&quot;</td><td>&quot;AllPub&quot;</td><td>&quot;Inside&quot;</td><td>&quot;Gtl&quot;</td><td>&quot;Mitchel&quot;</td><td>&quot;Norm&quot;</td><td>&quot;Norm&quot;</td><td>&quot;1Fam&quot;</td><td>&quot;SFoyer&quot;</td><td>5</td><td>5</td><td>1992</td><td>1992</td><td>&quot;Gable&quot;</td><td>&quot;CompShg&quot;</td><td>&quot;HdBoard&quot;</td><td>&quot;Wd Shng&quot;</td><td>&quot;None&quot;</td><td>0</td><td>&quot;TA&quot;</td><td>&quot;TA&quot;</td><td>&quot;PConc&quot;</td><td>&quot;Gd&quot;</td><td>&quot;TA&quot;</td><td>&quot;Av&quot;</td><td>&quot;GLQ&quot;</td><td>337</td><td>&quot;Unf&quot;</td><td>&hellip;</td><td>0</td><td>0</td><td>970</td><td>0</td><td>1</td><td>1</td><td>0</td><td>3</td><td>1</td><td>&quot;TA&quot;</td><td>6</td><td>&quot;Typ&quot;</td><td>0</td><td>&quot;NA&quot;</td><td>&quot;NA&quot;</td><td>null</td><td>&quot;NA&quot;</td><td>0</td><td>0</td><td>&quot;NA&quot;</td><td>&quot;NA&quot;</td><td>&quot;Y&quot;</td><td>80</td><td>32</td><td>0</td><td>0</td><td>0</td><td>0</td><td>&quot;NA&quot;</td><td>&quot;MnPrv&quot;</td><td>&quot;Shed&quot;</td><td>700</td><td>7</td><td>2006</td><td>&quot;WD &quot;</td><td>&quot;Normal&quot;</td><td>132000</td></tr><tr><td>2929</td><td>924100070</td><td>20</td><td>&quot;RL&quot;</td><td>77</td><td>10010</td><td>&quot;Pave&quot;</td><td>&quot;NA&quot;</td><td>&quot;Reg&quot;</td><td>&quot;Lvl&quot;</td><td>&quot;AllPub&quot;</td><td>&quot;Inside&quot;</td><td>&quot;Mod&quot;</td><td>&quot;Mitchel&quot;</td><td>&quot;Norm&quot;</td><td>&quot;Norm&quot;</td><td>&quot;1Fam&quot;</td><td>&quot;1Story&quot;</td><td>5</td><td>5</td><td>1974</td><td>1975</td><td>&quot;Gable&quot;</td><td>&quot;CompShg&quot;</td><td>&quot;HdBoard&quot;</td><td>&quot;HdBoard&quot;</td><td>&quot;None&quot;</td><td>0</td><td>&quot;TA&quot;</td><td>&quot;TA&quot;</td><td>&quot;CBlock&quot;</td><td>&quot;Gd&quot;</td><td>&quot;TA&quot;</td><td>&quot;Av&quot;</td><td>&quot;ALQ&quot;</td><td>1071</td><td>&quot;LwQ&quot;</td><td>&hellip;</td><td>0</td><td>0</td><td>1389</td><td>1</td><td>0</td><td>1</td><td>0</td><td>2</td><td>1</td><td>&quot;TA&quot;</td><td>6</td><td>&quot;Typ&quot;</td><td>1</td><td>&quot;TA&quot;</td><td>&quot;Attchd&quot;</td><td>1975</td><td>&quot;RFn&quot;</td><td>2</td><td>418</td><td>&quot;TA&quot;</td><td>&quot;TA&quot;</td><td>&quot;Y&quot;</td><td>240</td><td>38</td><td>0</td><td>0</td><td>0</td><td>0</td><td>&quot;NA&quot;</td><td>&quot;NA&quot;</td><td>&quot;NA&quot;</td><td>0</td><td>4</td><td>2006</td><td>&quot;WD &quot;</td><td>&quot;Normal&quot;</td><td>170000</td></tr><tr><td>2930</td><td>924151050</td><td>60</td><td>&quot;RL&quot;</td><td>74</td><td>9627</td><td>&quot;Pave&quot;</td><td>&quot;NA&quot;</td><td>&quot;Reg&quot;</td><td>&quot;Lvl&quot;</td><td>&quot;AllPub&quot;</td><td>&quot;Inside&quot;</td><td>&quot;Mod&quot;</td><td>&quot;Mitchel&quot;</td><td>&quot;Norm&quot;</td><td>&quot;Norm&quot;</td><td>&quot;1Fam&quot;</td><td>&quot;2Story&quot;</td><td>7</td><td>5</td><td>1993</td><td>1994</td><td>&quot;Gable&quot;</td><td>&quot;CompShg&quot;</td><td>&quot;HdBoard&quot;</td><td>&quot;HdBoard&quot;</td><td>&quot;BrkFace&quot;</td><td>94</td><td>&quot;TA&quot;</td><td>&quot;TA&quot;</td><td>&quot;PConc&quot;</td><td>&quot;Gd&quot;</td><td>&quot;TA&quot;</td><td>&quot;Av&quot;</td><td>&quot;LwQ&quot;</td><td>758</td><td>&quot;Unf&quot;</td><td>&hellip;</td><td>1004</td><td>0</td><td>2000</td><td>0</td><td>0</td><td>2</td><td>1</td><td>3</td><td>1</td><td>&quot;TA&quot;</td><td>9</td><td>&quot;Typ&quot;</td><td>1</td><td>&quot;TA&quot;</td><td>&quot;Attchd&quot;</td><td>1993</td><td>&quot;Fin&quot;</td><td>3</td><td>650</td><td>&quot;TA&quot;</td><td>&quot;TA&quot;</td><td>&quot;Y&quot;</td><td>190</td><td>48</td><td>0</td><td>0</td><td>0</td><td>0</td><td>&quot;NA&quot;</td><td>&quot;NA&quot;</td><td>&quot;NA&quot;</td><td>0</td><td>11</td><td>2006</td><td>&quot;WD &quot;</td><td>&quot;Normal&quot;</td><td>188000</td></tr></tbody></table></div>"
      ],
      "text/plain": [
       "shape: (2_930, 82)\n",
       "┌───────┬───────────┬─────────────┬───────────┬───┬─────────┬───────────┬───────────┬───────────┐\n",
       "│ Order ┆ PID       ┆ MS SubClass ┆ MS Zoning ┆ … ┆ Yr Sold ┆ Sale Type ┆ Sale      ┆ SalePrice │\n",
       "│ ---   ┆ ---       ┆ ---         ┆ ---       ┆   ┆ ---     ┆ ---       ┆ Condition ┆ ---       │\n",
       "│ i64   ┆ i64       ┆ i64         ┆ str       ┆   ┆ i64     ┆ str       ┆ ---       ┆ i64       │\n",
       "│       ┆           ┆             ┆           ┆   ┆         ┆           ┆ str       ┆           │\n",
       "╞═══════╪═══════════╪═════════════╪═══════════╪═══╪═════════╪═══════════╪═══════════╪═══════════╡\n",
       "│ 1     ┆ 526301100 ┆ 20          ┆ RL        ┆ … ┆ 2010    ┆ WD        ┆ Normal    ┆ 215000    │\n",
       "│ 2     ┆ 526350040 ┆ 20          ┆ RH        ┆ … ┆ 2010    ┆ WD        ┆ Normal    ┆ 105000    │\n",
       "│ 3     ┆ 526351010 ┆ 20          ┆ RL        ┆ … ┆ 2010    ┆ WD        ┆ Normal    ┆ 172000    │\n",
       "│ 4     ┆ 526353030 ┆ 20          ┆ RL        ┆ … ┆ 2010    ┆ WD        ┆ Normal    ┆ 244000    │\n",
       "│ 5     ┆ 527105010 ┆ 60          ┆ RL        ┆ … ┆ 2010    ┆ WD        ┆ Normal    ┆ 189900    │\n",
       "│ …     ┆ …         ┆ …           ┆ …         ┆ … ┆ …       ┆ …         ┆ …         ┆ …         │\n",
       "│ 2926  ┆ 923275080 ┆ 80          ┆ RL        ┆ … ┆ 2006    ┆ WD        ┆ Normal    ┆ 142500    │\n",
       "│ 2927  ┆ 923276100 ┆ 20          ┆ RL        ┆ … ┆ 2006    ┆ WD        ┆ Normal    ┆ 131000    │\n",
       "│ 2928  ┆ 923400125 ┆ 85          ┆ RL        ┆ … ┆ 2006    ┆ WD        ┆ Normal    ┆ 132000    │\n",
       "│ 2929  ┆ 924100070 ┆ 20          ┆ RL        ┆ … ┆ 2006    ┆ WD        ┆ Normal    ┆ 170000    │\n",
       "│ 2930  ┆ 924151050 ┆ 60          ┆ RL        ┆ … ┆ 2006    ┆ WD        ┆ Normal    ┆ 188000    │\n",
       "└───────┴───────────┴─────────────┴───────────┴───┴─────────┴───────────┴───────────┴───────────┘"
      ]
     },
     "execution_count": 8,
     "metadata": {},
     "output_type": "execute_result"
    }
   ],
   "source": [
    "df"
   ]
  },
  {
   "cell_type": "code",
   "execution_count": null,
   "metadata": {},
   "outputs": [],
   "source": []
  }
 ],
 "metadata": {
  "kernelspec": {
   "display_name": ".venv",
   "language": "python",
   "name": "python3"
  },
  "language_info": {
   "codemirror_mode": {
    "name": "ipython",
    "version": 3
   },
   "file_extension": ".py",
   "mimetype": "text/x-python",
   "name": "python",
   "nbconvert_exporter": "python",
   "pygments_lexer": "ipython3",
   "version": "3.10.16"
  },
  "orig_nbformat": 4
 },
 "nbformat": 4,
 "nbformat_minor": 2
}
